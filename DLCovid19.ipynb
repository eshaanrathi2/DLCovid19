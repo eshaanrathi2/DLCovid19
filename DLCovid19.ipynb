{
  "nbformat": 4,
  "nbformat_minor": 0,
  "metadata": {
    "colab": {
      "name": "DLCovid19.ipynb",
      "provenance": [],
      "authorship_tag": "ABX9TyNGlEtUn8TZ3ILC0ElnTIS7",
      "include_colab_link": true
    },
    "kernelspec": {
      "name": "python3",
      "display_name": "Python 3"
    }
  },
  "cells": [
    {
      "cell_type": "markdown",
      "metadata": {
        "id": "view-in-github",
        "colab_type": "text"
      },
      "source": [
        "<a href=\"https://colab.research.google.com/github/theclassofai/Covid19_DeepLearning_CT_Scan_Images/blob/master/DLCovid19.ipynb\" target=\"_parent\"><img src=\"https://colab.research.google.com/assets/colab-badge.svg\" alt=\"Open In Colab\"/></a>"
      ]
    },
    {
      "cell_type": "markdown",
      "metadata": {
        "id": "OMPSqz-AlJ37",
        "colab_type": "text"
      },
      "source": [
        "## DLCovid19: A Deep Learning-based Model for COVID19 Detection using CT Images\n",
        "\n",
        "![alt text](https://www.cavernoma.org.uk/wp-content/uploads/2020/03/covid-19.png)"
      ]
    },
    {
      "cell_type": "markdown",
      "metadata": {
        "id": "qbwzHj6TlrZr",
        "colab_type": "text"
      },
      "source": [
        "## Dataset Discription\n",
        "\n",
        "The dataset used in this study has been taken from https://github.com/UCSD-AI4H/COVID-CT \n",
        "\n",
        "The COVID-CT-Dataset has 349 CT images containing clinical findings of COVID-19 from 216 patients. They are in `./Images-processed/CT_COVID.zip`\n",
        "\n",
        "** Note: *The utility of this dataset has been confirmed by a senior radiologist in Tongji Hospital, Wuhan, China, who has performed diagnosis and treatment of a large number of COVID-19 patients during the outbreak of this disease between January and April.*\n",
        "\n",
        "The following two images has been taken from the above given dataset, where left image is of covid patient and right image is of non-covid patient.\n",
        "\n",
        "| Covid CT        | Non-Covid CT           | \n",
        "| ------------- |:-------------:| \n",
        "| ![alt text](https://github.com/theclassofai/Covid19_DeepLearning_CT_Scan_Images/blob/master/Images/Covid/2020.02.17.20024018-p17-61%251.png?raw=true)    | ![alt text](https://github.com/theclassofai/Covid19_DeepLearning_CT_Scan_Images/blob/master/Images/NonCovid/2237.png?raw=true) | \n",
        "\n"
      ]
    },
    {
      "cell_type": "code",
      "metadata": {
        "id": "IOWvWXKylIvB",
        "colab_type": "code",
        "colab": {}
      },
      "source": [
        "!git clone https://github.com/UCSD-AI4H/COVID-CT.git\n",
        "!unzip '/content/COVID-CT/Images-processed/CT_COVID.zip'\n",
        "!unzip '/content/COVID-CT/Images-processed/CT_NonCOVID.zip'"
      ],
      "execution_count": 0,
      "outputs": []
    },
    {
      "cell_type": "code",
      "metadata": {
        "id": "lSQq-JnhoB5N",
        "colab_type": "code",
        "colab": {}
      },
      "source": [
        "import os\n",
        "   path='/content/CT_COVID/'\n",
        "   for count, filename in enumerate(os.listdir(path)): \n",
        "        dst =\"covid\" + str(count) + \".png\"\n",
        "        src =path+ filename \n",
        "        dst =path+ dst \n",
        "        # rename() function will \n",
        "        # rename all the files \n",
        "        os.rename(src, dst)\n",
        "\n",
        "   path='/content/CT_NonCOVID/'\n",
        "   for count, filename in enumerate(os.listdir(path)): \n",
        "        dst =\"noncovid\" + str(count) + \".png\"\n",
        "        src =path+ filename \n",
        "        dst =path+ dst \n",
        "        # rename() function will \n",
        "        # rename all the files \n",
        "        os.rename(src, dst)"
      ],
      "execution_count": 0,
      "outputs": []
    },
    {
      "cell_type": "code",
      "metadata": {
        "id": "1R5N5-yvoNLK",
        "colab_type": "code",
        "colab": {}
      },
      "source": [
        "base_dir = '/content/covid19_CT'\n",
        "os.mkdir(base_dir)"
      ],
      "execution_count": 0,
      "outputs": []
    },
    {
      "cell_type": "code",
      "metadata": {
        "id": "piiLGfu5oT2O",
        "colab_type": "code",
        "colab": {}
      },
      "source": [
        "train_dir = os.path.join(base_dir, 'train')\n",
        "os.mkdir(train_dir)\n",
        "\n",
        "validation_dir = os.path.join(base_dir, 'validation')\n",
        "os.mkdir(validation_dir)\n",
        "\n",
        "test_dir = os.path.join(base_dir, 'test')\n",
        "os.mkdir(test_dir)\n",
        "\n",
        "train_covid_dir = os.path.join(train_dir, 'covid')\n",
        "os.mkdir(train_covid_dir)\n",
        "\n",
        "train_noncovid_dir = os.path.join(train_dir, 'noncovid')\n",
        "os.mkdir(train_noncovid_dir)\n",
        "\n",
        "validation_covid_dir = os.path.join(validation_dir, 'covid')\n",
        "os.mkdir(validation_covid_dir)\n",
        "\n",
        "validation_noncovid_dir = os.path.join(validation_dir, 'noncovid')\n",
        "os.mkdir(validation_noncovid_dir)\n",
        "\n",
        "test_covid_dir = os.path.join(test_dir, 'covid')\n",
        "os.mkdir(test_covid_dir)\n",
        "\n",
        "test_noncovid_dir = os.path.join(test_dir, 'noncovid')\n",
        "os.mkdir(test_noncovid_dir)"
      ],
      "execution_count": 0,
      "outputs": []
    },
    {
      "cell_type": "code",
      "metadata": {
        "id": "CcoxX4KFpGBg",
        "colab_type": "code",
        "colab": {}
      },
      "source": [
        "original_dataset_dir_covid = '/content/CT_COVID/'\n",
        "original_dataset_dir_non_covid = '/content/CT_NonCOVID/'\n",
        "\n",
        "import shutil\n",
        "fnames = ['covid{}.png'.format(i) for i in range(250)]\n",
        "for fname in fnames:\n",
        "    src = os.path.join(original_dataset_dir_covid, fname)\n",
        "    dst = os.path.join(train_covid_dir, fname)\n",
        "    #print(src,dst)\n",
        "    shutil.copyfile(src, dst)\n",
        "    \n",
        "fnames = ['covid{}.png'.format(i) for i in range(250, 300)]\n",
        "for fname in fnames:\n",
        "    src = os.path.join(original_dataset_dir_covid, fname)\n",
        "    dst = os.path.join(validation_covid_dir, fname)\n",
        "    shutil.copyfile(src, dst)\n",
        "\n",
        "fnames = ['covid{}.png'.format(i) for i in range(300, 348)]\n",
        "for fname in fnames:\n",
        "    src = os.path.join(original_dataset_dir_covid, fname)\n",
        "    dst = os.path.join(test_covid_dir, fname)\n",
        "    shutil.copyfile(src, dst)\n",
        "\n",
        "fnames = ['noncovid{}.png'.format(i) for i in range(250)]\n",
        "for fname in fnames:\n",
        "    src = os.path.join(original_dataset_dir_non_covid, fname)\n",
        "    dst = os.path.join(train_noncovid_dir, fname)\n",
        "    shutil.copyfile(src, dst)\n",
        "\n",
        "fnames = ['noncovid{}.png'.format(i) for i in range(250, 300)]\n",
        "for fname in fnames:\n",
        "    src = os.path.join(original_dataset_dir_non_covid, fname)\n",
        "    dst = os.path.join(validation_noncovid_dir, fname)\n",
        "    shutil.copyfile(src, dst)\n",
        "\n",
        "fnames = ['noncovid{}.png'.format(i) for i in range(300, 348)]\n",
        "for fname in fnames:\n",
        "    src = os.path.join(original_dataset_dir_non_covid, fname)\n",
        "    dst = os.path.join(test_noncovid_dir, fname)\n",
        "    shutil.copyfile(src, dst)"
      ],
      "execution_count": 0,
      "outputs": []
    },
    {
      "cell_type": "code",
      "metadata": {
        "id": "02sgdwevpMJG",
        "colab_type": "code",
        "colab": {}
      },
      "source": [
        "print('total training Covid images:', len(os.listdir(train_covid_dir)))\n",
        "print('total training NonCovid images:', len(os.listdir(train_noncovid_dir)))\n",
        "\n",
        "print('total validation Covid images:', len(os.listdir(validation_covid_dir)))\n",
        "print('total validation NonCovid images:', len(os.listdir(validation_noncovid_dir)))\n",
        "\n",
        "print('total test Covid images:', len(os.listdir(test_covid_dir)))\n",
        "print('total test NonCovid images:', len(os.listdir(test_noncovid_dir)))"
      ],
      "execution_count": 0,
      "outputs": []
    },
    {
      "cell_type": "code",
      "metadata": {
        "id": "nBZjFbKipWKj",
        "colab_type": "code",
        "colab": {}
      },
      "source": [
        "# Create and Compile the Model\n",
        "from keras import layers\n",
        "from keras import models\n",
        "\n",
        "model = models.Sequential()\n",
        "model.add(layers.Conv2D(32, (3, 3), activation='relu', input_shape=(150, 150, 3)))\n",
        "model.add(layers.MaxPooling2D((2, 2)))\n",
        "model.add(layers.Conv2D(64, (3, 3), activation='relu'))\n",
        "model.add(layers.MaxPooling2D((2, 2)))\n",
        "model.add(layers.Conv2D(128, (3, 3), activation='relu'))\n",
        "model.add(layers.MaxPooling2D((2, 2)))\n",
        "model.add(layers.Conv2D(128, (3, 3), activation='relu'))\n",
        "model.add(layers.MaxPooling2D((2, 2)))\n",
        "model.add(layers.Flatten())\n",
        "model.add(layers.Dense(512, activation='relu'))\n",
        "model.add(layers.Dense(1, activation='sigmoid'))\n",
        "model.summary()\n",
        "\n",
        "from keras import optimizers\n",
        "model.compile(loss='binary_crossentropy', \n",
        "              optimizer=optimizers.RMSprop(lr=1e-4),\n",
        "              metrics=['acc'])"
      ],
      "execution_count": 0,
      "outputs": []
    },
    {
      "cell_type": "code",
      "metadata": {
        "id": "BDixQUoGplcj",
        "colab_type": "code",
        "colab": {}
      },
      "source": [
        "from keras.preprocessing.image import ImageDataGenerator\n",
        "\n",
        "train_datagen = ImageDataGenerator(rescale=1./255)\n",
        "test_datagen = ImageDataGenerator(rescale=1./255)\n",
        "\n",
        "train_generator = train_datagen.flow_from_directory(train_dir,\n",
        "                                                    target_size=(150, 150), \n",
        "                                                    batch_size=20,\n",
        "                                                    class_mode='binary')\n",
        "\n",
        "validation_generator = test_datagen.flow_from_directory(validation_dir,\n",
        "                                                        target_size=(150, 150),\n",
        "                                                        batch_size=20,\n",
        "                                                        class_mode='binary')"
      ],
      "execution_count": 0,
      "outputs": []
    },
    {
      "cell_type": "code",
      "metadata": {
        "id": "G4x9-UZmpsUh",
        "colab_type": "code",
        "colab": {}
      },
      "source": [
        "# Fit the model \n",
        "history = model.fit_generator(train_generator,\n",
        "                              steps_per_epoch=100,\n",
        "                              epochs=30,\n",
        "                              validation_data=validation_generator,\n",
        "                              validation_steps=10)"
      ],
      "execution_count": 0,
      "outputs": []
    },
    {
      "cell_type": "code",
      "metadata": {
        "id": "g_MlPCDqpwpu",
        "colab_type": "code",
        "colab": {}
      },
      "source": [
        "import matplotlib.pyplot as plt\n",
        "\n",
        "acc = history.history['acc']\n",
        "val_acc = history.history['val_acc']\n",
        "loss = history.history['loss']\n",
        "val_loss = history.history['val_loss']\n",
        "\n",
        "epochs = range(1, len(acc) + 1)\n",
        "\n",
        "plt.plot(epochs, acc, 'bo', label='Training acc')\n",
        "plt.plot(epochs, val_acc, 'b', label='Validation acc')\n",
        "plt.title('Training and validation accuracy')\n",
        "plt.legend()\n",
        "\n",
        "plt.figure()\n",
        "\n",
        "plt.plot(epochs, loss, 'bo', label='Training loss')\n",
        "plt.plot(epochs, val_loss, 'b', label='Validation loss')\n",
        "plt.title('Training and validation loss')\n",
        "plt.legend()\n",
        "\n",
        "plt.show()"
      ],
      "execution_count": 0,
      "outputs": []
    },
    {
      "cell_type": "markdown",
      "metadata": {
        "id": "gw0xGeB_p-Ou",
        "colab_type": "text"
      },
      "source": [
        "## Improving the model using Dropout and Data Augmentation\n",
        "\n",
        "#### 1. What is Dropout?\n",
        "\n",
        "![alt text](https://miro.medium.com/max/3000/1*ui3IvoiVYBFtaU0auj63ew.gif)\n",
        "\n",
        "#### 2. What is Data Augmentation \n",
        "\n",
        "* `rotation_range` is a value in degrees (0-180), a range within which to randomly rotate pictures\n",
        "* `width_shift` and `height_shift` are ranges (as a fraction of total width or height) within which to randomly translate pictures vertically or horizontally\n",
        "* `rescale` is a value by which we will multiply the data before any other processing. Our original images consist in RGB coefficients in the 0-255, but such values would be too high for our models to process (given a typical learning rate), so we target values between 0 and 1 instead by scaling with a 1/255. factor.\n",
        "* `shear_range` is for randomly applying shearing transformations\n",
        "* `zoom_range` is for randomly zooming inside pictures\n",
        "* `horizontal_flip` is for randomly flipping half of the images horizontally --relevant when there are no assumptions of horizontal assymetry (e.g. real-world pictures).\n",
        "\n",
        "Example:\n",
        "![Image taken from blog.keras.io](https://blog.keras.io/img/imgclf/cat_data_augmentation.png)"
      ]
    },
    {
      "cell_type": "code",
      "metadata": {
        "id": "RCnhOYvwqKsq",
        "colab_type": "code",
        "colab": {}
      },
      "source": [
        "model1 = models.Sequential()\n",
        "model1.add(layers.Conv2D(32, (3, 3), activation='relu',\n",
        "input_shape=(150, 150, 3)))\n",
        "model1.add(layers.MaxPooling2D((2, 2)))\n",
        "model1.add(layers.Conv2D(64, (3, 3), activation='relu'))\n",
        "model1.add(layers.MaxPooling2D((2, 2)))\n",
        "model1.add(layers.Conv2D(128, (3, 3), activation='relu'))\n",
        "model1.add(layers.MaxPooling2D((2, 2)))\n",
        "model1.add(layers.Conv2D(128, (3, 3), activation='relu'))\n",
        "model1.add(layers.MaxPooling2D((2, 2)))\n",
        "model1.add(layers.Flatten())\n",
        "model1.add(layers.Dropout(0.5))\n",
        "model1.add(layers.Dense(512, activation='relu'))\n",
        "model1.add(layers.Dense(1, activation='sigmoid'))\n",
        "\n",
        "model1.compile(loss='binary_crossentropy',\n",
        "              optimizer=optimizers.RMSprop(lr=1e-4),\n",
        "              metrics=['acc'])"
      ],
      "execution_count": 0,
      "outputs": []
    },
    {
      "cell_type": "code",
      "metadata": {
        "id": "LUb_50-PqVsH",
        "colab_type": "code",
        "colab": {}
      },
      "source": [
        "train_datagen = ImageDataGenerator(rescale=1./255,\n",
        "                                   rotation_range=40,\n",
        "                                   width_shift_range=0.2,\n",
        "                                   height_shift_range=0.2,\n",
        "                                   shear_range=0.2,\n",
        "                                   zoom_range=0.2,\n",
        "                                   horizontal_flip=True,)\n",
        "\n",
        "test_datagen = ImageDataGenerator(rescale=1./255)\n",
        "\n",
        "train_generator = train_datagen.flow_from_directory(train_dir,\n",
        "                                                    target_size=(150, 150),\n",
        "                                                    batch_size=32,\n",
        "                                                    class_mode='binary')\n",
        "\n",
        "validation_generator = test_datagen.flow_from_directory(validation_dir,\n",
        "                                                        target_size=(150, 150),\n",
        "                                                        batch_size=32,\n",
        "                                                        class_mode='binary')\n",
        "\n",
        "history = model1.fit_generator(train_generator,\n",
        "                              steps_per_epoch=100,\n",
        "                              epochs=20,\n",
        "                              validation_data=validation_generator,\n",
        "                              validation_steps=50)"
      ],
      "execution_count": 0,
      "outputs": []
    },
    {
      "cell_type": "code",
      "metadata": {
        "id": "3fdjHv1VsW0A",
        "colab_type": "code",
        "colab": {}
      },
      "source": [
        "\n",
        "import matplotlib.pyplot as plt\n",
        "\n",
        "acc = history.history['acc']\n",
        "val_acc = history.history['val_acc']\n",
        "loss = history.history['loss']\n",
        "val_loss = history.history['val_loss']\n",
        "\n",
        "epochs = range(1, len(acc) + 1)\n",
        "\n",
        "plt.plot(epochs, acc, 'bo', label='Training acc')\n",
        "plt.plot(epochs, val_acc, 'b', label='Validation acc')\n",
        "plt.title('Training and validation accuracy')\n",
        "plt.legend()\n",
        "\n",
        "plt.figure()\n",
        "\n",
        "plt.plot(epochs, loss, 'bo', label='Training loss')\n",
        "plt.plot(epochs, val_loss, 'b', label='Validation loss')\n",
        "plt.title('Training and validation loss')\n",
        "plt.legend()\n",
        "\n",
        "plt.show()"
      ],
      "execution_count": 0,
      "outputs": []
    }
  ]
}